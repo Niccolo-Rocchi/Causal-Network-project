{
  "cells": [
    {
      "cell_type": "markdown",
      "metadata": {
        "id": "kFpk2Fi6bs1-"
      },
      "source": [
        "# **Learning Bayesian Networks from Big Data with Greedy Search**\n",
        "\n",
        "**Rocchi Niccolò, 10/01/2023**\n",
        "\n",
        "*Università degli Studi di Milano Bicocca, Dipartimento di Informatica, Sistemistica e Comunicazione, M.Sc. Data Science*"
      ]
    },
    {
      "cell_type": "markdown",
      "source": [
        "# Introduction"
      ],
      "metadata": {
        "id": "hTVrKnyK5Q6X"
      }
    },
    {
      "cell_type": "markdown",
      "metadata": {
        "id": "L1fc7O9DlE2r"
      },
      "source": [
        "## Abstract\n",
        "\n",
        "Structure identification task has been a crucial and well studied problem of Probabilistic Graphical Models in the last decades. Not only it's concerned with learning Bayesian Networks but also their causal version, namely Causal Networks. \n",
        "Indeed it's the really first step in discovering the ground truth underlying data at hand, and the basis from which we have to start when speaking about Causal Inference.\n",
        "\n",
        "\n",
        "In this work, which main reference is [1]: \"*Learning Bayesian Networks from Big Data with Greedy Search: computational complexity and efficient implementation*\" by M. Scutari et al., we focused on a greedy approach for Bayesian Network Learning from data. In particular it has been implemented the Hill-Climbing algorithm, a very well known trajectory-based metaheuristic when dealing with optimization in huge parameter spaces, as in the case of the space of possible DAGs with just $n > 10$ nodes. Its purpose, in fact, is to find the DAG that locally - hopefully globally - maximizes a given score function $\\text{Score}(\\mathcal{G}|\\mathbf{D})$. Because of the variety of these functions, different implementations can be found. It's worth also to observe that this procedure only focuses on structure learning, meaning a correct couple of nodes and directed edges with no cycles, and not on parameter learning, that could follow in the study.\n",
        "After having implemented the Log-Likelihood score function and Hill-Climbing, it has been found a local maximum starting from an empty initialized graph. This one was then compared with the true graph, computing the number of correct, missed, extra or reversed edges. In order to perform a simple but effective sensitivity analysis of the obtained result, the same algorithm was finally run starting from 20 different random initializations.\n",
        "\n",
        "\n",
        "\n",
        "\n",
        "\n",
        "\n",
        "\n",
        "\n",
        "\n",
        "\n",
        "\n",
        "\n"
      ]
    },
    {
      "cell_type": "markdown",
      "source": [
        "## Score function and its computation\n",
        "\n",
        "Dealing with a binary - and so categorical - data set of 5000 observation and 8 variables $\\{X_i\\}_{i}$, the choosen score function was the *Log-Likelihood*.\n",
        "Given a dataset $\\mathbf{D}$ and a DAG $\\mathcal{G}$,\n",
        "it's defined as follow:\n",
        "\n",
        "$$\n",
        "LL(\\mathcal{G}|\\mathbf{D}) = \\sum_{i=1}^{n}\\sum_{j=1}^{q_i}\\sum_{k=1}^{r_i}N_{ijk} \\cdot \\log \\left(\\frac{N_{ijk} }{N_{ij\\star}}\\right)\n",
        "$$\n",
        "\n",
        "where $n$ is the number of variables, $q_i$ the number of different configurations of $Pa(X_i)$, $r_i$ the number of levels of $X_i$,\n",
        "$N_{ijk}$ the absolute frequency of observing $X_i$ with the $j$-th configuration and the $k$-th level, and $N_{ij\\star} = \\sum_{k=1}^{r_i}N_{ijk}$.\n",
        "From a mathematical point of view, the term $\\frac{N_{ijk}}{N_{ij\\star}}$ represents the frequentist probability $P(X_i = k| Pa(X_i)=j)$.\n",
        "\n",
        "In order to make these definition more practical, if we indicate $r_i = |\\text{Dom}(X_i)|$ the cardinality of the domain of the $i$-th variable,\n",
        "we could state that $q_i$ can be computed as:\n",
        "$$\n",
        "q_i = |\\text{Dom}(X_{i+1}) \\times \\text{Dom}(X_{i+2})\\times \\cdots \\times \\text{Dom}(X_{i+j})| = \\prod_{k=1}^j|\\text{Dom}(X_{i+k})|=\\prod_{k=1}^jr_{i+k}\n",
        "$$\n",
        "being $X_{i+1},X_{i+2}, \\cdots, X_{i+j}$ the set $Pa(X_i)$. Moreover, indicating $N_i$ a $q_i \\times r_i$ matrix, we can define $N_{ijk}$ as its $(j,k)$-th position representing the count of observations in $\\mathbf{D}$ such that $X_i$ = $j$-th level and $Pa(X_i)$ = $k$-th configuration at the same time.\n",
        "\n",
        "Observing that a $\\log$ is present in the score definition, we constrain the entire addend to be 0 if $N_{ijk}=0$ for some $i,j,k$.\n",
        "\n",
        "Now, from the Markov assumption about $\\mathcal{G}$ and his underlying probability distribution $P$, we have that\n",
        "$$\n",
        "P(\\mathbf{X}|\\mathcal{G}, \\Theta) = \\prod_{i=1}^n P(X_i|\\Pi_{X_i}, \\Theta_{X_i})\n",
        "$$\n",
        "and we call each term *local distribution*. Since the Log-Likelihood score function is a sum over $n$, it holds its *decomposability* into one component for each local distribution, that is each term in the sum over $n$. In the following we will indicate this quantity as $ll(X_i|Pa(X_i))$.\n",
        "\n",
        "The overall computation of $LL(\\mathcal{G}|\\mathbf{D})$ can be then summarized as follows:\n",
        "1. For any $(i,j,k)\\in \\{1,\\cdots ,n\\}\\times \\{1,\\cdots ,q_i\\}\\times\\{1,\\cdots ,r_i\\}$ compute the matrix $N_{ijk}$.\n",
        "\n",
        "2. Compute $S_{ijk} = N_i[j,k] \\cdot \\log \\left( \\frac{N_i[j,k]}{\\sum_{k=1 }^{r_i}N_i[j,k]}\\right)$\n",
        "\n",
        "3. Compute the local scores as $\\sum_{j=1}^{q_i}\\sum_{k=1}^{r_i}S_{ijk}$ and then sum over $n$ to obtain the global score.\n"
      ],
      "metadata": {
        "id": "KHWxha2Y5MrN"
      }
    },
    {
      "cell_type": "markdown",
      "source": [
        "## Hill-Climbing and its computation\n",
        "\n",
        "The theoretical intuition behind Hill-Climbing is straightforward. Initializing a DAG $\\mathcal{G}$ (usually the empty one), at each step of the algorithm we consider any *neighbour* resulted from an arch addition, deletion or reversal - still a DAG $\\mathcal{G}^*$- of the current graph, computing $LL(\\mathcal{G}^*|\\mathbf{D})$. If $LL(\\mathcal{G}^*|\\mathbf{D}) > LL(\\mathcal{G}|\\mathbf{D})$ (improvement move) and $LL(\\mathcal{G}^*|\\mathbf{D})$ is the highest among all neighbours, then $\\mathcal{G}^*$ becomes the new current DAG $\\mathcal{G}$. After having visited every *neighbour* of $\\mathcal{G}$, either \n",
        "such a improvement was done or not. In the first case, the graph is updated and an other iteration - i.e. a valuation of a new neighborhood-  is done, while in the latter the algorithm terminates.\n",
        "Actually, a few considerations are worth to mention to make the computation more feasible.\n",
        "\n",
        "We mentioned the decomposability of the score function into local scores.\n",
        "Let's now suppose we are only interested in edge modifications such as additions and deletions. Then this observation eases the computation, since the score of each neighbour in one iteration only \n",
        "differs from $\\mathcal{G}$ score by one local score: the one corresponding to the node that acquired - or lost - a parent. Then, as stated in the paper, if we initially cache every local score of $\\mathcal{G}$ and every local difference in scores\n",
        "corresponding to each neighbour, for each iteration of Hill-Climbing we are able to choose the best neighbour by simply find the best local difference; \n",
        "clearly this changement must bring a higher global score than before.\n",
        "Finally, for the next step, we only have to compute $n$ new local differences, those corresponding to the variable whose parents were changed in the previous iteration. \n",
        "Still, the edge reversal situation is similar. In this case each neighbour will differ for two local scores, since two node parent sets changed. Then the computation of the new global score \n",
        "must take into account both differences, not just the one regarding the node that achieved a new parent. If such an edge reversal was made \n",
        "in the previous iteration, then we compute $2n$ new local scores.\n",
        "\n",
        "The last consideration is about the constraint of each neighbour to be acyclic. It can ease the computation to check the condition only if the neighbour translates in a better move.\n",
        "\n",
        "Finally, the procedure of Hill-Climbing can be summarized as follows:\n",
        "\n",
        "1. Initialize a graph $\\mathcal{G}$ (usually the empty graph) with $n$ nodes\n",
        "2. Compute and cache $ll(X_i|Pa(X_i))$ for all $i$\n",
        "3. For each variable compute and cache $\\Delta_{ij} = ll(X_i|Pa(X_i)) - ll(X_i|Pa^*_j(X_i))$ for all $j\\neq i$, where $Pa^*_j(X_i)$ is the modification of $Pa(X_i)$ as the result of adding the $j$-th variables as a parent (if $j \\notin Pa(X_i))$ or removing the $j$-th parent.\n",
        "4. Set the first $\\Delta_{best}$ as 0. Then, with a *for* loop, iteratively compare each $\\Delta_{ij}$. If $\\Delta_{ij}$ implies an edge reversal from $i \\rightarrow j$ to $i \\leftarrow j$, than the overall score change is $\\Delta_{ij}+\\Delta_{ji}$ and not only $\\Delta_{ij}$. If a certain $\\Delta_{i^*j^*}$ is lower than the previous one and the $(i^*,j^*)$-th edge modification translates in a DAG, than $\\Delta_{best} = \\Delta_{i^*j^*}$. This is done for every $(i,j)$\n",
        "5. If $\\Delta_{best}=0$ then no improvement move was found, so exit the algorithm returning the current $\\mathcal{G}$. Otherwise, compute and cache the new $\\Delta_{i^*j}$ for all $j$.\n",
        "6.  If the operation was an edge reversal, also compute and cache $\\Delta_{j^*i}$ for all $i$.\n",
        "7. Repeat from step 4.\n",
        "\n",
        "As entailed, the algoritm terminates when no improvement move was found. We also can control the loop with a maximum number of iterations or other checks. We'll mention them in the Conclusions."
      ],
      "metadata": {
        "id": "3wHVD0Qn5b-q"
      }
    },
    {
      "cell_type": "markdown",
      "metadata": {
        "id": "p5zcVqbGbpte"
      },
      "source": [
        "# Implementation"
      ]
    },
    {
      "cell_type": "markdown",
      "source": [
        "### Libraries"
      ],
      "metadata": {
        "id": "rylNPV8t8GLs"
      }
    },
    {
      "cell_type": "code",
      "source": [
        "%%capture\n",
        "!apt install python3-dev graphviz libgraphviz-dev pkg-config\n",
        "!pip install pygraphviz matplotlib seaborn\n",
        "!pip install --upgrade scipy networkx"
      ],
      "metadata": {
        "id": "uA1GU4568Hhe"
      },
      "execution_count": null,
      "outputs": []
    },
    {
      "cell_type": "code",
      "execution_count": null,
      "metadata": {
        "id": "2LvgkKcGJtMf"
      },
      "outputs": [],
      "source": [
        "# Libraries importation\n",
        "import numpy as np\n",
        "import pandas as pd\n",
        "import networkx as nx\n",
        "import matplotlib.pyplot as plt\n",
        "import seaborn as sns\n",
        "import itertools\n",
        "import scipy\n",
        "import time\n",
        "\n",
        "from networkx.drawing.nx_agraph import graphviz_layout\n",
        "from typing import List\n",
        "\n",
        "import warnings\n",
        "warnings.simplefilter(action='ignore', category=FutureWarning)"
      ]
    },
    {
      "cell_type": "code",
      "execution_count": null,
      "metadata": {
        "id": "mvKlwMvNOrw7"
      },
      "outputs": [],
      "source": [
        "# Get machine epsilon.\n",
        "e = np.finfo(np.float64).eps"
      ]
    },
    {
      "cell_type": "markdown",
      "metadata": {
        "id": "6UvSuE-DYKYy"
      },
      "source": [
        "### Read Data and Graph"
      ]
    },
    {
      "cell_type": "code",
      "execution_count": null,
      "metadata": {
        "id": "4Mu20gfmKpNE"
      },
      "outputs": [],
      "source": [
        "# Read data from file.\n",
        "D = pd.read_csv(\"https://raw.githubusercontent.com/Niccolo-Rocchi/Causal-Network-project/main/final_project_data.csv\", dtype = \"category\")\n",
        "\n",
        "# Build the true graph.\n",
        "G = nx.DiGraph([\n",
        "    (\"A\", \"T\"),\n",
        "    (\"S\", \"L\"),\n",
        "    (\"S\", \"B\"),\n",
        "    (\"B\", \"D\"),\n",
        "    (\"E\", \"D\"),\n",
        "    (\"T\", \"E\"),\n",
        "    (\"L\", \"E\"),\n",
        "    (\"E\", \"X\")\n",
        "])"
      ]
    },
    {
      "cell_type": "code",
      "execution_count": null,
      "metadata": {
        "colab": {
          "base_uri": "https://localhost:8080/",
          "height": 248
        },
        "id": "iovxDRU1DXZV",
        "outputId": "c4dfda10-29ed-478c-cf9b-94107270be2e"
      },
      "outputs": [
        {
          "data": {
            "image/png": "[encoded data removed]",
            "text/plain": [
              "<Figure size 640x480 with 1 Axes>"
            ]
          },
          "metadata": {},
          "output_type": "display_data"
        }
      ],
      "source": [
        "nx.draw_networkx(G, pos = graphviz_layout(G, prog = \"dot\"), with_labels = True)"
      ]
    },
    {
      "cell_type": "markdown",
      "metadata": {
        "id": "amsIARH0U0ON"
      },
      "source": [
        "### Computing the Absolute Frequencies"
      ]
    },
    {
      "cell_type": "code",
      "execution_count": null,
      "metadata": {
        "id": "wp7863ExJzQ-"
      },
      "outputs": [],
      "source": [
        "# Compute the absolute frequencies N(X, Pa(X) | D).\n",
        "def N(X: str, Z: List[str], D: pd.DataFrame) -> np.ndarray:\n",
        "\n",
        "  configurations = [list(iter) for iter in itertools.product(*[D[s].unique().to_list() for s in Z])]\n",
        "  levels = D[X].unique().to_list()\n",
        "\n",
        "  q_i = len(configurations)\n",
        "  r_i = len(levels)\n",
        "\n",
        "  N = np.empty((q_i, r_i))\n",
        "  for j in range(q_i):\n",
        "    for i in range(r_i):\n",
        "      N[j, i] = (D[[X] + Z] == [levels[i]] + configurations[j]).apply(np.prod, axis = 1).sum()\n",
        "\n",
        "  return N"
      ]
    },
    {
      "cell_type": "code",
      "execution_count": null,
      "metadata": {
        "id": "4q2TpDPZUCYj"
      },
      "outputs": [],
      "source": [
        "# Compute N(A | D).\n",
        "np.testing.assert_equal(\n",
        "    N(\"A\", [], D),\n",
        "    np.array([[4958,   42]])\n",
        ")"
      ]
    },
    {
      "cell_type": "code",
      "execution_count": null,
      "metadata": {
        "id": "1sHR1CA-ULRS"
      },
      "outputs": [],
      "source": [
        "# Compute N(A, [L] | D).\n",
        "np.testing.assert_equal(\n",
        "    N(\"A\", [\"L\"], D),\n",
        "    np.array([\n",
        "        [4632,   38],\n",
        "        [ 326,    4]\n",
        "    ])\n",
        ")"
      ]
    },
    {
      "cell_type": "code",
      "execution_count": null,
      "metadata": {
        "id": "k8MIKC1sK9g9"
      },
      "outputs": [],
      "source": [
        "# Compute N(A, [L, T] | D).\n",
        "np.testing.assert_equal(\n",
        "    N(\"A\", [\"L\", \"T\"], D),\n",
        "    np.array([\n",
        "        [4594,   36],\n",
        "        [  38,    2],\n",
        "        [ 322,    4],\n",
        "        [   4,    0]\n",
        "    ])\n",
        ")"
      ]
    },
    {
      "cell_type": "markdown",
      "metadata": {
        "id": "FX67s0JXUwP2"
      },
      "source": [
        "### Computing the Log-Likelihood"
      ]
    },
    {
      "cell_type": "code",
      "execution_count": null,
      "metadata": {
        "id": "cmF6OYiVN1T2"
      },
      "outputs": [],
      "source": [
        "# Compute log-likelihood of ll(X, Pa(X) | D).\n",
        "def ll(X: str, Z: List[str], D: pd.DataFrame) -> float:\n",
        "  M = N(X, Z, D)\n",
        "  q_i, r_i = M.shape\n",
        "  ll = 0\n",
        "  for j in range(q_i):\n",
        "    N_ij = M[j,:].sum()\n",
        "    for i in range(r_i):\n",
        "      N_ijk = M[j, i]\n",
        "      if N_ijk != 0:\n",
        "        ll += N_ijk * np.log(N_ijk / N_ij)\n",
        "  return ll"
      ]
    },
    {
      "cell_type": "code",
      "execution_count": null,
      "metadata": {
        "id": "Tt0rCwR0Pvjh"
      },
      "outputs": [],
      "source": [
        "# Compute ll(A | D).\n",
        "np.testing.assert_approx_equal(\n",
        "    ll(\"A\", [], D),\n",
        "    -242.5631\n",
        ")"
      ]
    },
    {
      "cell_type": "code",
      "execution_count": null,
      "metadata": {
        "id": "vs1WetrHRB0A"
      },
      "outputs": [],
      "source": [
        "# Compute ll(A, [L] | D).\n",
        "np.testing.assert_approx_equal(\n",
        "    ll(\"A\", [\"L\"], D),\n",
        "    -242.3023\n",
        ")"
      ]
    },
    {
      "cell_type": "code",
      "execution_count": null,
      "metadata": {
        "id": "BYnoZWJjU-32"
      },
      "outputs": [],
      "source": [
        "# Compute ll(A, [L, T] | D).\n",
        "np.testing.assert_approx_equal(\n",
        "    ll(\"A\", [\"L\", \"T\"], D),\n",
        "    -240.2226\n",
        ")"
      ]
    },
    {
      "cell_type": "code",
      "execution_count": null,
      "metadata": {
        "id": "NX6wM9ClWsNJ"
      },
      "outputs": [],
      "source": [
        "# Compute log-likelihood of LL(G | D).\n",
        "def LL(G: nx.DiGraph, D: pd.DataFrame) -> float:\n",
        "  LL = 0\n",
        "  for node in G.nodes:\n",
        "    LL += ll(node, list(G.predecessors(node)), D)\n",
        "  return LL"
      ]
    },
    {
      "cell_type": "code",
      "execution_count": null,
      "metadata": {
        "id": "mAdLfgKna7iC"
      },
      "outputs": [],
      "source": [
        "# Compute LL(G | D).\n",
        "np.testing.assert_approx_equal(\n",
        "    LL(G, D),\n",
        "    -11033.0871\n",
        ")"
      ]
    },
    {
      "cell_type": "markdown",
      "metadata": {
        "id": "xuvvdrESbSQk"
      },
      "source": [
        "### Implementing Hill-Climbing"
      ]
    },
    {
      "cell_type": "code",
      "execution_count": null,
      "metadata": {
        "id": "4nurMu0dthx2"
      },
      "outputs": [],
      "source": [
        "# Compute Score(node | Pa*(node)) for any modification Pa*(node) of Pa(node)\n",
        "def new_local_scores(node: str, G:nx.DiGraph, D: pd.DataFrame) -> dict:\n",
        "  \n",
        "  nodes = set(D.columns)\n",
        "  Parents = set(G.predecessors(node))\n",
        "  Not_Parents = nodes - Parents - set(node)\n",
        "\n",
        "  return {\n",
        "      **{parent:ll(node, list(Parents - set(parent)), D) for parent in Parents},                      # removing a parent\n",
        "      **{not_parent:ll(node, list(Parents | set(not_parent)), D) for not_parent in Not_Parents}       # adding a parent\n",
        "      }"
      ]
    },
    {
      "cell_type": "code",
      "execution_count": null,
      "metadata": {
        "id": "44HMwlnbz54t"
      },
      "outputs": [],
      "source": [
        "# Hill-Climbing\n",
        "\n",
        "'''\n",
        "INPUT: \n",
        "  - D: dataframe from which we want to extract a DAG G\n",
        "  - Score_local: Score(X | Pa(X)) for every X in G. Its sum is the global score\n",
        "  - maxit: maximum number of allowed iteration\n",
        "  - init: inizialized DAG. It can be 'empty' or 'random'\n",
        "\n",
        "OUTPUT:\n",
        "  - G: the DAG maximizing the global score\n",
        "  - operations: history of edge operations\n",
        "  - values: history of global scores\n",
        "  - times: history of computing times\n",
        "'''\n",
        "def HC(D: pd.DataFrame, Score_local = ll, maxit: int = 100, init:str = 'empty') -> tuple:\n",
        "\n",
        "  # Initialize the DAG G\n",
        "  nodes = set(D.columns)\n",
        "  n = len(nodes)\n",
        "  if init == 'empty':\n",
        "    G = nx.relabel_nodes(nx.empty_graph(n, nx.DiGraph), dict(zip(list(range(n)), nodes)))\n",
        "  if init == 'random':\n",
        "    # p = 0.1 means a pretty sparse initialization\n",
        "    G = nx.relabel_nodes(nx.fast_gnp_random_graph(n, p = 0.1, directed = True), dict(zip(list(range(n)), nodes)))\n",
        "\n",
        "  # Cache G local scores in B_G\n",
        "  B_G = {node : ll(node, list(G.predecessors(node)), D) for node in nodes}\n",
        "\n",
        "  # Cache G global score in S_G\n",
        "  S_G = sum(B_G.values())\n",
        "\n",
        "  # Cache Score(node | Pa*(node)) for any modifications of Pa(node)\n",
        "  Mod_scores = dict()\n",
        "  for node in nodes:\n",
        "    Mod_scores[node] = new_local_scores(node, G, D)\n",
        "\n",
        "  # Initialize 'iter' as current iteration and other outputs\n",
        "  iter = 1\n",
        "  operations = []\n",
        "  values = []\n",
        "  times = []\n",
        "\n",
        "  # Main loop\n",
        "  while iter <= maxit:\n",
        "    start = time.time()\n",
        "    delta_old = 0\n",
        "    \n",
        "    # Iterating on every possible arc addition, removal or reversal. \n",
        "    for i in nodes:\n",
        "      for j in Mod_scores[i]:\n",
        "\n",
        "        # 'delta_new' is: Score(X|Pa(X)) - Score(X|Pa*(X)). We want it to be:\n",
        "        #     1) < 0 (correspoding to a neighbour with higher global score than G), and\n",
        "        #     2) the minimum for every i,j\n",
        "        delta_new = B_G[i] - Mod_scores[i][j]\n",
        "\n",
        "        # In case of edge reversal, 'delta_rev' takes into account also the change in Score(j|Pa(j))\n",
        "        delta_rev = 0\n",
        "        if i in G.predecessors(j): delta_rev =  Mod_scores[j][i] - B_G[j]\n",
        "\n",
        "        # Condition corresponding to a new improvement move\n",
        "        if delta_new < delta_old + delta_rev:\n",
        "\n",
        "          # Found a neighbour with better score, we verify it is a DAG\n",
        "          H = G.copy()\n",
        "\n",
        "          # Case of edge removal\n",
        "          if j in H.predecessors(i): \n",
        "            H.remove_edge(j, i)\n",
        "            operation = 'removal'\n",
        "\n",
        "          # Case of edge reversal\n",
        "          elif j in H.successors(i):\n",
        "            H.remove_edge(i, j)\n",
        "            H.add_edge(j, i)\n",
        "            operation = 'reversion'\n",
        "\n",
        "          # 3) Case of edge addition\n",
        "          else: \n",
        "            H.add_edge(j, i)\n",
        "            operation = 'addition'\n",
        "\n",
        "          if nx.is_directed_acyclic_graph(H):\n",
        "\n",
        "            # Update the new minimum for delta\n",
        "            delta_old = delta_new\n",
        "\n",
        "            # Cache actual best neighbour\n",
        "            H_best = H\n",
        "            i_final = i\n",
        "            j_final = j\n",
        "            last_op = operation\n",
        "\n",
        "    # If no improvement on global score was done, then stop the iteration\n",
        "    if delta_old == 0: \n",
        "      if iter == 1: values = [S_G]\n",
        "      break \n",
        "\n",
        "    # Update G\n",
        "    G = H_best\n",
        "    \n",
        "    # Update local scores\n",
        "    i, j = i_final, j_final\n",
        "    B_G[i] = Mod_scores[i][j]\n",
        "    Mod_scores[i] = new_local_scores(i, G, D)\n",
        "    if last_op == 'reversion':\n",
        "      B_G[j] = ll(j, list(G.predecessors(j)), D)\n",
        "      Mod_scores[j] = new_local_scores(j, H, D)\n",
        "\n",
        "    # Update global score\n",
        "    S_G = sum(B_G.values())\n",
        "\n",
        "    # Update output parameters\n",
        "    end = time.time()\n",
        "    times = times + [end - start]\n",
        "    operations = operations + [last_op]\n",
        "    values = values + [round(S_G, 4)]\n",
        "    \n",
        "    iter += 1\n",
        "\n",
        "  return (G, operations, values, times)"
      ]
    },
    {
      "cell_type": "code",
      "execution_count": null,
      "metadata": {
        "id": "KSmiCV42c-IQ"
      },
      "outputs": [],
      "source": [
        "# Run Hill-Climbing\n",
        "(H, operations, values, times) = HC(D)"
      ]
    },
    {
      "cell_type": "code",
      "execution_count": null,
      "metadata": {
        "id": "mCeICaxS3anw",
        "outputId": "f8983e73-9ffe-4743-d332-0c5b9d602021"
      },
      "outputs": [
        {
          "data": {
            "text/html": [
              "<div>\n",
              "<style scoped>\n",
              "    .dataframe tbody tr th:only-of-type {\n",
              "        vertical-align: middle;\n",
              "    }\n",
              "\n",
              "    .dataframe tbody tr th {\n",
              "        vertical-align: top;\n",
              "    }\n",
              "\n",
              "    .dataframe thead th {\n",
              "        text-align: right;\n",
              "    }\n",
              "</style>\n",
              "<table border=\"1\" class=\"dataframe\">\n",
              "  <thead>\n",
              "    <tr style=\"text-align: right;\">\n",
              "      <th></th>\n",
              "      <th>operations</th>\n",
              "      <th>values</th>\n",
              "      <th>times</th>\n",
              "    </tr>\n",
              "  </thead>\n",
              "  <tbody>\n",
              "    <tr>\n",
              "      <th>0</th>\n",
              "      <td>addition</td>\n",
              "      <td>-14002.2498</td>\n",
              "      <td>9.693599</td>\n",
              "    </tr>\n",
              "    <tr>\n",
              "      <th>1</th>\n",
              "      <td>addition</td>\n",
              "      <td>-12913.1548</td>\n",
              "      <td>9.576259</td>\n",
              "    </tr>\n",
              "    <tr>\n",
              "      <th>2</th>\n",
              "      <td>addition</td>\n",
              "      <td>-11980.7654</td>\n",
              "      <td>9.538055</td>\n",
              "    </tr>\n",
              "    <tr>\n",
              "      <th>3</th>\n",
              "      <td>addition</td>\n",
              "      <td>-11529.4369</td>\n",
              "      <td>9.772676</td>\n",
              "    </tr>\n",
              "    <tr>\n",
              "      <th>4</th>\n",
              "      <td>addition</td>\n",
              "      <td>-11299.2074</td>\n",
              "      <td>16.740598</td>\n",
              "    </tr>\n",
              "    <tr>\n",
              "      <th>5</th>\n",
              "      <td>addition</td>\n",
              "      <td>-11159.8529</td>\n",
              "      <td>17.079085</td>\n",
              "    </tr>\n",
              "    <tr>\n",
              "      <th>6</th>\n",
              "      <td>addition</td>\n",
              "      <td>-11034.8972</td>\n",
              "      <td>9.484076</td>\n",
              "    </tr>\n",
              "    <tr>\n",
              "      <th>7</th>\n",
              "      <td>addition</td>\n",
              "      <td>-11031.7822</td>\n",
              "      <td>29.101212</td>\n",
              "    </tr>\n",
              "    <tr>\n",
              "      <th>8</th>\n",
              "      <td>addition</td>\n",
              "      <td>-11028.5739</td>\n",
              "      <td>53.621154</td>\n",
              "    </tr>\n",
              "    <tr>\n",
              "      <th>9</th>\n",
              "      <td>addition</td>\n",
              "      <td>-11025.9108</td>\n",
              "      <td>16.942921</td>\n",
              "    </tr>\n",
              "    <tr>\n",
              "      <th>10</th>\n",
              "      <td>addition</td>\n",
              "      <td>-11023.7131</td>\n",
              "      <td>16.804967</td>\n",
              "    </tr>\n",
              "    <tr>\n",
              "      <th>11</th>\n",
              "      <td>addition</td>\n",
              "      <td>-11019.8973</td>\n",
              "      <td>29.034014</td>\n",
              "    </tr>\n",
              "    <tr>\n",
              "      <th>12</th>\n",
              "      <td>addition</td>\n",
              "      <td>-11016.6173</td>\n",
              "      <td>50.702205</td>\n",
              "    </tr>\n",
              "    <tr>\n",
              "      <th>13</th>\n",
              "      <td>addition</td>\n",
              "      <td>-11014.8072</td>\n",
              "      <td>9.523214</td>\n",
              "    </tr>\n",
              "    <tr>\n",
              "      <th>14</th>\n",
              "      <td>addition</td>\n",
              "      <td>-11012.8524</td>\n",
              "      <td>16.681593</td>\n",
              "    </tr>\n",
              "    <tr>\n",
              "      <th>15</th>\n",
              "      <td>addition</td>\n",
              "      <td>-11011.3286</td>\n",
              "      <td>9.538341</td>\n",
              "    </tr>\n",
              "    <tr>\n",
              "      <th>16</th>\n",
              "      <td>addition</td>\n",
              "      <td>-11009.9454</td>\n",
              "      <td>84.186375</td>\n",
              "    </tr>\n",
              "    <tr>\n",
              "      <th>17</th>\n",
              "      <td>addition</td>\n",
              "      <td>-11008.1618</td>\n",
              "      <td>122.158662</td>\n",
              "    </tr>\n",
              "    <tr>\n",
              "      <th>18</th>\n",
              "      <td>addition</td>\n",
              "      <td>-11007.1709</td>\n",
              "      <td>16.732820</td>\n",
              "    </tr>\n",
              "    <tr>\n",
              "      <th>19</th>\n",
              "      <td>addition</td>\n",
              "      <td>-11006.2772</td>\n",
              "      <td>28.868188</td>\n",
              "    </tr>\n",
              "    <tr>\n",
              "      <th>20</th>\n",
              "      <td>addition</td>\n",
              "      <td>-11005.5223</td>\n",
              "      <td>49.283673</td>\n",
              "    </tr>\n",
              "    <tr>\n",
              "      <th>21</th>\n",
              "      <td>addition</td>\n",
              "      <td>-11004.9120</td>\n",
              "      <td>29.184905</td>\n",
              "    </tr>\n",
              "    <tr>\n",
              "      <th>22</th>\n",
              "      <td>addition</td>\n",
              "      <td>-11004.4733</td>\n",
              "      <td>173.750358</td>\n",
              "    </tr>\n",
              "    <tr>\n",
              "      <th>23</th>\n",
              "      <td>addition</td>\n",
              "      <td>-11004.3367</td>\n",
              "      <td>81.978153</td>\n",
              "    </tr>\n",
              "    <tr>\n",
              "      <th>24</th>\n",
              "      <td>reversion</td>\n",
              "      <td>-11004.3367</td>\n",
              "      <td>324.421192</td>\n",
              "    </tr>\n",
              "    <tr>\n",
              "      <th>25</th>\n",
              "      <td>removal</td>\n",
              "      <td>-11002.5484</td>\n",
              "      <td>80.859993</td>\n",
              "    </tr>\n",
              "    <tr>\n",
              "      <th>26</th>\n",
              "      <td>reversion</td>\n",
              "      <td>-11002.5484</td>\n",
              "      <td>62.343814</td>\n",
              "    </tr>\n",
              "    <tr>\n",
              "      <th>27</th>\n",
              "      <td>removal</td>\n",
              "      <td>-11000.2911</td>\n",
              "      <td>10.068989</td>\n",
              "    </tr>\n",
              "    <tr>\n",
              "      <th>28</th>\n",
              "      <td>reversion</td>\n",
              "      <td>-11000.2911</td>\n",
              "      <td>82.683630</td>\n",
              "    </tr>\n",
              "    <tr>\n",
              "      <th>29</th>\n",
              "      <td>removal</td>\n",
              "      <td>-10997.0110</td>\n",
              "      <td>16.616566</td>\n",
              "    </tr>\n",
              "  </tbody>\n",
              "</table>\n",
              "</div>"
            ],
            "text/plain": [
              "   operations      values       times\n",
              "0    addition -14002.2498    9.693599\n",
              "1    addition -12913.1548    9.576259\n",
              "2    addition -11980.7654    9.538055\n",
              "3    addition -11529.4369    9.772676\n",
              "4    addition -11299.2074   16.740598\n",
              "5    addition -11159.8529   17.079085\n",
              "6    addition -11034.8972    9.484076\n",
              "7    addition -11031.7822   29.101212\n",
              "8    addition -11028.5739   53.621154\n",
              "9    addition -11025.9108   16.942921\n",
              "10   addition -11023.7131   16.804967\n",
              "11   addition -11019.8973   29.034014\n",
              "12   addition -11016.6173   50.702205\n",
              "13   addition -11014.8072    9.523214\n",
              "14   addition -11012.8524   16.681593\n",
              "15   addition -11011.3286    9.538341\n",
              "16   addition -11009.9454   84.186375\n",
              "17   addition -11008.1618  122.158662\n",
              "18   addition -11007.1709   16.732820\n",
              "19   addition -11006.2772   28.868188\n",
              "20   addition -11005.5223   49.283673\n",
              "21   addition -11004.9120   29.184905\n",
              "22   addition -11004.4733  173.750358\n",
              "23   addition -11004.3367   81.978153\n",
              "24  reversion -11004.3367  324.421192\n",
              "25    removal -11002.5484   80.859993\n",
              "26  reversion -11002.5484   62.343814\n",
              "27    removal -11000.2911   10.068989\n",
              "28  reversion -11000.2911   82.683630\n",
              "29    removal -10997.0110   16.616566"
            ]
          },
          "execution_count": 29,
          "metadata": {},
          "output_type": "execute_result"
        }
      ],
      "source": [
        "# See history\n",
        "Results = pd.DataFrame({'operations':operations, 'values':values, 'times':times})\n",
        "Results"
      ]
    },
    {
      "cell_type": "code",
      "source": [
        "# Plot Log-Likelihood history\n",
        "plt.plot(Results['values'], 'blue')\n",
        "plt.xlabel('Iteration')\n",
        "plt.ylabel('Log-Likelihood')"
      ],
      "metadata": {
        "colab": {
          "base_uri": "https://localhost:8080/",
          "height": 417
        },
        "id": "_eHqQbFMlwUp",
        "outputId": "74bfa197-704a-4918-ad9e-b5c6dec5cc4d"
      },
      "execution_count": null,
      "outputs": [
        {
          "output_type": "execute_result",
          "data": {
            "text/plain": [
              "Text(0, 0.5, 'Log-Likelihood')"
            ]
          },
          "metadata": {},
          "execution_count": 36
        },
        {
          "output_type": "display_data",
          "data": {
            "text/plain": [
              "<Figure size 720x432 with 1 Axes>"
            ],
            "image/png": "[encoded data removed]"
          },
          "metadata": {}
        }
      ]
    },
    {
      "cell_type": "code",
      "source": [
        "# Plot execution time history\n",
        "plt.plot(Results['times'], 'red')\n",
        "plt.xlabel('Iteration')\n",
        "plt.ylabel('Execution time')"
      ],
      "metadata": {
        "colab": {
          "base_uri": "https://localhost:8080/",
          "height": 417
        },
        "id": "kpCpB55amjh8",
        "outputId": "7a50f63c-bbba-4d92-b26a-f6754b6e9ef9"
      },
      "execution_count": null,
      "outputs": [
        {
          "output_type": "execute_result",
          "data": {
            "text/plain": [
              "Text(0, 0.5, 'Execution time')"
            ]
          },
          "metadata": {},
          "execution_count": 37
        },
        {
          "output_type": "display_data",
          "data": {
            "text/plain": [
              "<Figure size 720x432 with 1 Axes>"
            ],
            "image/png": "[encoded data removed]"
          },
          "metadata": {}
        }
      ]
    },
    {
      "cell_type": "code",
      "execution_count": null,
      "metadata": {
        "id": "m7N_owPFO5xF",
        "outputId": "60745f6e-7cf5-4122-b2c6-06f8792ae921"
      },
      "outputs": [
        {
          "data": {
            "image/png": "[encoded data removed]",
            "text/plain": [
              "<Figure size 640x480 with 1 Axes>"
            ]
          },
          "metadata": {},
          "output_type": "display_data"
        }
      ],
      "source": [
        "# Plot Hill-Climbing resulting graph\n",
        "nx.draw_networkx(H, pos = graphviz_layout(H, prog = \"dot\"), with_labels = True)"
      ]
    },
    {
      "cell_type": "code",
      "execution_count": null,
      "metadata": {
        "id": "pXvkR84xioLN",
        "outputId": "5423da92-2b31-48c7-cfcb-0f4d8b8df8fa"
      },
      "outputs": [
        {
          "data": {
            "image/png": "[encoded data removed]",
            "text/plain": [
              "<Figure size 640x480 with 1 Axes>"
            ]
          },
          "metadata": {},
          "output_type": "display_data"
        }
      ],
      "source": [
        "# Plot the true graph.\n",
        "G = nx.DiGraph([(\"A\", \"T\"),(\"S\", \"L\"),(\"S\", \"B\"),(\"B\", \"D\"),(\"E\", \"D\"),(\"T\", \"E\"),(\"L\", \"E\"),(\"E\", \"X\")])\n",
        "nx.draw_networkx(G, pos = graphviz_layout(G, prog = \"dot\"), with_labels = True)"
      ]
    },
    {
      "cell_type": "markdown",
      "metadata": {
        "id": "ZzzQui2ZlE2w"
      },
      "source": [
        "# Testing Hill-Climbing"
      ]
    },
    {
      "cell_type": "code",
      "execution_count": null,
      "metadata": {
        "id": "1Nk3UQGclE2w"
      },
      "outputs": [],
      "source": [
        "# Compute graphs differences between edges\n",
        "def graphs_score(G: nx.DiGraph, H: nx.DiGraph):\n",
        "\n",
        "  # Compute adjacence matrices\n",
        "  nodelist = G.nodes()\n",
        "  Ad_G = nx.adjacency_matrix(G, nodelist).toarray()\n",
        "  Ad_H = nx.adjacency_matrix(H, nodelist).toarray()\n",
        "\n",
        "  # Number of same edges\n",
        "  same = np.sum(Ad_G * Ad_H)\n",
        "\n",
        "  # Number of reversed edges\n",
        "  mask = np.transpose(Ad_G) * Ad_H\n",
        "  reversed = np.sum(mask)\n",
        "  mask = (1 + mask)%2\n",
        "\n",
        "  # Number of extra or missing edges\n",
        "  A = Ad_G - Ad_H*mask\n",
        "  freq = np.unique(A, return_counts = True)\n",
        "  freq = {f\"{freq[0][k]}\" : freq[1][k] for k in range(len(freq[0]))}\n",
        "  extra = freq.get('-1', 0)\n",
        "  missing = freq.get('1', 0) - reversed\n",
        "  \n",
        "  return (same, extra, missing, reversed)"
      ]
    },
    {
      "cell_type": "code",
      "execution_count": null,
      "metadata": {
        "id": "qxm4pJX7t-bq",
        "outputId": "ad4b30f2-45a6-4db3-9ee6-b8cbf591c6c3",
        "colab": {
          "base_uri": "https://localhost:8080/"
        }
      },
      "outputs": [
        {
          "output_type": "stream",
          "name": "stdout",
          "text": [
            "same edges: 6\n",
            "extra edges: 14\n",
            "missing edges: 1\n",
            "reversed edges: 1\n"
          ]
        }
      ],
      "source": [
        "# Compute the score between G and H \n",
        "same, extra, missing, reversed = graphs_score(G, H)\n",
        "print(f\"same edges: {same}\\nextra edges: {extra}\\nmissing edges: {missing}\\nreversed edges: {reversed}\")"
      ]
    },
    {
      "cell_type": "code",
      "execution_count": null,
      "metadata": {
        "id": "8ih7wpnemCoQ"
      },
      "outputs": [],
      "source": [
        "# Test HC with different random initializations\n",
        "iters = 20\n",
        "Accuracy_matrix = np.empty((iters, 5))\n",
        "\n",
        "for init in range(iters):\n",
        "  H, _, values, _ = HC(D, init='random')\n",
        "  score_list = list(graphs_score(G, H))\n",
        "  Accuracy_matrix[init, :] = np.array(score_list + [values[-1]])\n",
        "\n",
        "Accuracy = pd.DataFrame(Accuracy_matrix, columns = ['same', 'extra', 'missing', 'reversed', 'LL'])"
      ]
    },
    {
      "cell_type": "code",
      "execution_count": null,
      "metadata": {
        "id": "kmiFUaIq3anz",
        "outputId": "a1150f77-3c05-4d16-eee7-020ab0cce2c7",
        "colab": {
          "base_uri": "https://localhost:8080/",
          "height": 300
        }
      },
      "outputs": [
        {
          "output_type": "execute_result",
          "data": {
            "text/plain": [
              "            same      extra    missing   reversed            LL\n",
              "count  20.000000  20.000000  20.000000  20.000000     20.000000\n",
              "mean    3.400000  15.700000   1.450000   3.150000 -11262.276108\n",
              "std     2.137387   4.079474   2.459675   2.158825   1084.448921\n",
              "min     0.000000   6.000000   0.000000   0.000000 -14156.854623\n",
              "25%     2.000000  15.750000   0.000000   1.000000 -11003.080225\n",
              "50%     3.500000  17.000000   1.000000   4.000000 -10983.370050\n",
              "75%     5.000000  18.000000   1.000000   4.250000 -10868.751550\n",
              "max     7.000000  19.000000   8.000000   8.000000 -10173.958200"
            ],
            "text/html": [
              "\n",
              "  <div id=\"df-8c1e5086-2789-42fc-8452-3e121bc6e8af\">\n",
              "    <div class=\"colab-df-container\">\n",
              "      <div>\n",
              "<style scoped>\n",
              "    .dataframe tbody tr th:only-of-type {\n",
              "        vertical-align: middle;\n",
              "    }\n",
              "\n",
              "    .dataframe tbody tr th {\n",
              "        vertical-align: top;\n",
              "    }\n",
              "\n",
              "    .dataframe thead th {\n",
              "        text-align: right;\n",
              "    }\n",
              "</style>\n",
              "<table border=\"1\" class=\"dataframe\">\n",
              "  <thead>\n",
              "    <tr style=\"text-align: right;\">\n",
              "      <th></th>\n",
              "      <th>same</th>\n",
              "      <th>extra</th>\n",
              "      <th>missing</th>\n",
              "      <th>reversed</th>\n",
              "      <th>LL</th>\n",
              "    </tr>\n",
              "  </thead>\n",
              "  <tbody>\n",
              "    <tr>\n",
              "      <th>count</th>\n",
              "      <td>20.000000</td>\n",
              "      <td>20.000000</td>\n",
              "      <td>20.000000</td>\n",
              "      <td>20.000000</td>\n",
              "      <td>20.000000</td>\n",
              "    </tr>\n",
              "    <tr>\n",
              "      <th>mean</th>\n",
              "      <td>3.400000</td>\n",
              "      <td>15.700000</td>\n",
              "      <td>1.450000</td>\n",
              "      <td>3.150000</td>\n",
              "      <td>-11262.276108</td>\n",
              "    </tr>\n",
              "    <tr>\n",
              "      <th>std</th>\n",
              "      <td>2.137387</td>\n",
              "      <td>4.079474</td>\n",
              "      <td>2.459675</td>\n",
              "      <td>2.158825</td>\n",
              "      <td>1084.448921</td>\n",
              "    </tr>\n",
              "    <tr>\n",
              "      <th>min</th>\n",
              "      <td>0.000000</td>\n",
              "      <td>6.000000</td>\n",
              "      <td>0.000000</td>\n",
              "      <td>0.000000</td>\n",
              "      <td>-14156.854623</td>\n",
              "    </tr>\n",
              "    <tr>\n",
              "      <th>25%</th>\n",
              "      <td>2.000000</td>\n",
              "      <td>15.750000</td>\n",
              "      <td>0.000000</td>\n",
              "      <td>1.000000</td>\n",
              "      <td>-11003.080225</td>\n",
              "    </tr>\n",
              "    <tr>\n",
              "      <th>50%</th>\n",
              "      <td>3.500000</td>\n",
              "      <td>17.000000</td>\n",
              "      <td>1.000000</td>\n",
              "      <td>4.000000</td>\n",
              "      <td>-10983.370050</td>\n",
              "    </tr>\n",
              "    <tr>\n",
              "      <th>75%</th>\n",
              "      <td>5.000000</td>\n",
              "      <td>18.000000</td>\n",
              "      <td>1.000000</td>\n",
              "      <td>4.250000</td>\n",
              "      <td>-10868.751550</td>\n",
              "    </tr>\n",
              "    <tr>\n",
              "      <th>max</th>\n",
              "      <td>7.000000</td>\n",
              "      <td>19.000000</td>\n",
              "      <td>8.000000</td>\n",
              "      <td>8.000000</td>\n",
              "      <td>-10173.958200</td>\n",
              "    </tr>\n",
              "  </tbody>\n",
              "</table>\n",
              "</div>\n",
              "      <button class=\"colab-df-convert\" onclick=\"convertToInteractive('df-8c1e5086-2789-42fc-8452-3e121bc6e8af')\"\n",
              "              title=\"Convert this dataframe to an interactive table.\"\n",
              "              style=\"display:none;\">\n",
              "        \n",
              "  <svg xmlns=\"http://www.w3.org/2000/svg\" height=\"24px\"viewBox=\"0 0 24 24\"\n",
              "       width=\"24px\">\n",
              "    <path d=\"M0 0h24v24H0V0z\" fill=\"none\"/>\n",
              "    <path d=\"M18.56 5.44l.94 2.06.94-2.06 2.06-.94-2.06-.94-.94-2.06-.94 2.06-2.06.94zm-11 1L8.5 8.5l.94-2.06 2.06-.94-2.06-.94L8.5 2.5l-.94 2.06-2.06.94zm10 10l.94 2.06.94-2.06 2.06-.94-2.06-.94-.94-2.06-.94 2.06-2.06.94z\"/><path d=\"M17.41 7.96l-1.37-1.37c-.4-.4-.92-.59-1.43-.59-.52 0-1.04.2-1.43.59L10.3 9.45l-7.72 7.72c-.78.78-.78 2.05 0 2.83L4 21.41c.39.39.9.59 1.41.59.51 0 1.02-.2 1.41-.59l7.78-7.78 2.81-2.81c.8-.78.8-2.07 0-2.86zM5.41 20L4 18.59l7.72-7.72 1.47 1.35L5.41 20z\"/>\n",
              "  </svg>\n",
              "      </button>\n",
              "      \n",
              "  <style>\n",
              "    .colab-df-container {\n",
              "      display:flex;\n",
              "      flex-wrap:wrap;\n",
              "      gap: 12px;\n",
              "    }\n",
              "\n",
              "    .colab-df-convert {\n",
              "      background-color: #E8F0FE;\n",
              "      border: none;\n",
              "      border-radius: 50%;\n",
              "      cursor: pointer;\n",
              "      display: none;\n",
              "      fill: #1967D2;\n",
              "      height: 32px;\n",
              "      padding: 0 0 0 0;\n",
              "      width: 32px;\n",
              "    }\n",
              "\n",
              "    .colab-df-convert:hover {\n",
              "      background-color: #E2EBFA;\n",
              "      box-shadow: 0px 1px 2px rgba(60, 64, 67, 0.3), 0px 1px 3px 1px rgba(60, 64, 67, 0.15);\n",
              "      fill: #174EA6;\n",
              "    }\n",
              "\n",
              "    [theme=dark] .colab-df-convert {\n",
              "      background-color: #3B4455;\n",
              "      fill: #D2E3FC;\n",
              "    }\n",
              "\n",
              "    [theme=dark] .colab-df-convert:hover {\n",
              "      background-color: #434B5C;\n",
              "      box-shadow: 0px 1px 3px 1px rgba(0, 0, 0, 0.15);\n",
              "      filter: drop-shadow(0px 1px 2px rgba(0, 0, 0, 0.3));\n",
              "      fill: #FFFFFF;\n",
              "    }\n",
              "  </style>\n",
              "\n",
              "      <script>\n",
              "        const buttonEl =\n",
              "          document.querySelector('#df-8c1e5086-2789-42fc-8452-3e121bc6e8af button.colab-df-convert');\n",
              "        buttonEl.style.display =\n",
              "          google.colab.kernel.accessAllowed ? 'block' : 'none';\n",
              "\n",
              "        async function convertToInteractive(key) {\n",
              "          const element = document.querySelector('#df-8c1e5086-2789-42fc-8452-3e121bc6e8af');\n",
              "          const dataTable =\n",
              "            await google.colab.kernel.invokeFunction('convertToInteractive',\n",
              "                                                     [key], {});\n",
              "          if (!dataTable) return;\n",
              "\n",
              "          const docLinkHtml = 'Like what you see? Visit the ' +\n",
              "            '<a target=\"_blank\" href=https://colab.research.google.com/notebooks/data_table.ipynb>data table notebook</a>'\n",
              "            + ' to learn more about interactive tables.';\n",
              "          element.innerHTML = '';\n",
              "          dataTable['output_type'] = 'display_data';\n",
              "          await google.colab.output.renderOutput(dataTable, element);\n",
              "          const docLink = document.createElement('div');\n",
              "          docLink.innerHTML = docLinkHtml;\n",
              "          element.appendChild(docLink);\n",
              "        }\n",
              "      </script>\n",
              "    </div>\n",
              "  </div>\n",
              "  "
            ]
          },
          "metadata": {},
          "execution_count": 21
        }
      ],
      "source": [
        "Accuracy.describe()"
      ]
    },
    {
      "cell_type": "code",
      "source": [
        "# Plot final results\n",
        "results = pd.melt(Accuracy.drop('LL', axis=1), var_name='Modification type', value_name='number')\n",
        "final_DAG_score = pd.DataFrame({'same': [same], 'extra': [extra],'missing': [missing],'reversed': [reversed]})\n",
        "final_DAG_score = pd.melt(final_DAG_score, var_name='Modification type', value_name='number')\n",
        "sns.set(rc={'axes.facecolor':'whitesmoke','figure.facecolor':'white','figure.figsize':(10,6)},font_scale=1.3)  \n",
        "\n",
        "# Plot results of Hill-Climbing (with random initializations) through boxplots with 95% confidence interval for the medians\n",
        "sns.boxplot(\n",
        "    y = 'Modification type',\n",
        "    x = 'number',\n",
        "    data = results,\n",
        "    notch = True, boxprops=dict(alpha=0.7), linewidth = 0.7, width = 0.4, zorder = 1\n",
        ")\n",
        "\n",
        "# Plot results of Hill-Climbing (with empty graph initialization)\n",
        "sns.scatterplot(\n",
        "    y = 'Modification type',\n",
        "    x = 'number',\n",
        "    data = final_DAG_score, s = 150, color = '#f54105', marker = 'v', linewidth = 0, zorder = 2\n",
        ")\n"
      ],
      "metadata": {
        "colab": {
          "base_uri": "https://localhost:8080/",
          "height": 417
        },
        "id": "M2cws25fJWZH",
        "outputId": "0e400142-4631-4575-f7c6-22ee1b7afad3"
      },
      "execution_count": null,
      "outputs": [
        {
          "output_type": "execute_result",
          "data": {
            "text/plain": [
              "<matplotlib.axes._subplots.AxesSubplot at 0x7f9cbb32bac0>"
            ]
          },
          "metadata": {},
          "execution_count": 20
        },
        {
          "output_type": "display_data",
          "data": {
            "text/plain": [
              "<Figure size 720x432 with 1 Axes>"
            ],
            "image/png": "[encoded data removed]"
          },
          "metadata": {}
        }
      ]
    },
    {
      "cell_type": "markdown",
      "metadata": {
        "id": "yaQ5oEqS3anz"
      },
      "source": [
        "# Conclusions and further improvements"
      ]
    },
    {
      "cell_type": "markdown",
      "metadata": {
        "id": "McmPgYcB3anz"
      },
      "source": [
        "Looking at the predicted graph from empty initialization, but in general by several random initializations, the really first evidence is the high number of extra edges. Furthermore, referring to the Log-Likelihood history plot, we see how with just the first iterations we can achieve almost the highest score but persisting in making other small improvements in score we end up in a low edges accuracy. \n",
        "These facts are suggesting either to choose an other stopping criteria in Hill-Climbing - such as lower number of maximum iterations or a control on the relative score improvements - or to constrain each node to have a maximum number of parents, as suggested in the reference paper. By the way, supposing not to know the true graph, this number - or the maximum number of iterations - is an hyperparameter that can't be optimally chosen without background knowledge. However, the experience recommends to look for a sparse graph. \n",
        "On the other hand, it's worth to highlight how an empty initialization translates, in general, in a higher number of well predicted edges and lower number of extra edges, whereas the number of missing or reversed edges follows the general distribution. \n",
        "These facts are also consistent with the fact that almost the entire edges operations history consists in edge additions. Only in the last iterations the algorithm performs edge removal or reversal.\n",
        "\n",
        "An other possible improvement is to implement the hole algorithm described in [1], thus adding a Tabu Search and a Random Restart blocks after Hill-Climbing. This procedure may give more consistent results.\n"
      ]
    },
    {
      "cell_type": "markdown",
      "source": [
        "# References"
      ],
      "metadata": {
        "id": "OL6xeTMgpDYF"
      }
    },
    {
      "cell_type": "markdown",
      "source": [
        "1. \"*Learning Bayesian Networks from Big Data with Greedy Search: computational complexity and efficient implementation*\", M. Scutari, C. Vitolo, A. Tucker, 2019. [https://link.springer.com/article/10.1007/s11222-019-09857-1](https://)"
      ],
      "metadata": {
        "id": "nA2gC87_pNaM"
      }
    }
  ],
  "metadata": {
    "colab": {
      "provenance": []
    },
    "kernelspec": {
      "display_name": "Python 3",
      "language": "python",
      "name": "python3"
    },
    "language_info": {
      "codemirror_mode": {
        "name": "ipython",
        "version": 3
      },
      "file_extension": ".py",
      "mimetype": "text/x-python",
      "name": "python",
      "nbconvert_exporter": "python",
      "pygments_lexer": "ipython3",
      "version": "3.10.6"
    },
    "vscode": {
      "interpreter": {
        "hash": "31f2aee4e71d21fbe5cf8b01ff0e069b9275f58929596ceb00d14d90e3e16cd6"
      }
    }
  },
  "nbformat": 4,
  "nbformat_minor": 0
}